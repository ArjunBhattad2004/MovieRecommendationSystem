{
  "nbformat": 4,
  "nbformat_minor": 0,
  "metadata": {
    "colab": {
      "provenance": []
    },
    "kernelspec": {
      "name": "python3",
      "display_name": "Python 3"
    },
    "language_info": {
      "name": "python"
    }
  },
  "cells": [
    {
      "cell_type": "markdown",
      "source": [
        "# CONTENT-BASED RECOMMENDER USING KNN\n"
      ],
      "metadata": {
        "id": "c-8egoNm2doK"
      }
    },
    {
      "cell_type": "code",
      "execution_count": 339,
      "metadata": {
        "id": "awbiZb_P4rK6"
      },
      "outputs": [],
      "source": [
        "## importing the libraries\n",
        "import pandas as pd\n",
        "import numpy as np\n",
        "import matplotlib.pyplot as plt"
      ]
    },
    {
      "cell_type": "code",
      "source": [
        "df = pd.read_csv(\"/content/new_df.csv\")  ## reading the preprocessed data"
      ],
      "metadata": {
        "id": "BHpzL1xH7Rds"
      },
      "execution_count": 340,
      "outputs": []
    },
    {
      "cell_type": "code",
      "source": [
        "df.head() #display few rows of dataset"
      ],
      "metadata": {
        "colab": {
          "base_uri": "https://localhost:8080/",
          "height": 608
        },
        "id": "k2GyjTkr7UYJ",
        "outputId": "58972032-0822-4f8e-fec6-d608a01072c8"
      },
      "execution_count": 341,
      "outputs": [
        {
          "output_type": "execute_result",
          "data": {
            "text/plain": [
              "   movieId                               title  \\\n",
              "0        1                    Toy Story (1995)   \n",
              "1        2                      Jumanji (1995)   \n",
              "2        3             Grumpier Old Men (1995)   \n",
              "3        4            Waiting to Exhale (1995)   \n",
              "4        5  Father of the Bride Part II (1995)   \n",
              "\n",
              "                                        genres  imdbId   tmdbId    rating  \\\n",
              "0  Adventure|Animation|Children|Comedy|Fantasy  114709    862.0  3.920930   \n",
              "1                   Adventure|Children|Fantasy  113497   8844.0  3.431818   \n",
              "2                               Comedy|Romance  113228  15602.0  3.259615   \n",
              "3                         Comedy|Drama|Romance  114885  31357.0  2.357143   \n",
              "4                                       Comedy  113041  11862.0  3.071429   \n",
              "\n",
              "                                            tag  \\\n",
              "0                               pixar,pixar,fun   \n",
              "1  fantasy,magic board game,Robin Williams,game   \n",
              "2                                     moldy,old   \n",
              "3                                           NaN   \n",
              "4                              pregnancy,remake   \n",
              "\n",
              "                                    new_genres  \\\n",
              "0  Adventure Animation Children Comedy Fantasy   \n",
              "1                   Adventure Children Fantasy   \n",
              "2                               Comedy Romance   \n",
              "3                         Comedy Drama Romance   \n",
              "4                                       Comedy   \n",
              "\n",
              "                            new_title  \\\n",
              "0                    Toy Story  1995    \n",
              "1                      Jumanji  1995    \n",
              "2             Grumpier Old Men  1995    \n",
              "3            Waiting to Exhale  1995    \n",
              "4  Father of the Bride Part II  1995    \n",
              "\n",
              "                                                text  \\\n",
              "0  Toy Story  1995 Adventure Animation Children C...   \n",
              "1           Jumanji  1995 Adventure Children Fantasy   \n",
              "2              Grumpier Old Men  1995 Comedy Romance   \n",
              "3       Waiting to Exhale  1995 Comedy Drama Romance   \n",
              "4           Father of the Bride Part II  1995 Comedy   \n",
              "\n",
              "                                    transformed_text  \n",
              "0  toy stori 1995 adventur anim children comedi f...  \n",
              "1             jumanji 1995 adventur children fantasi  \n",
              "2                grumpier old men 1995 comedi romanc  \n",
              "3                wait exhal 1995 comedi drama romanc  \n",
              "4                   father bride part ii 1995 comedi  "
            ],
            "text/html": [
              "\n",
              "  <div id=\"df-cc687fdd-e183-4078-ba15-15c1126186a8\" class=\"colab-df-container\">\n",
              "    <div>\n",
              "<style scoped>\n",
              "    .dataframe tbody tr th:only-of-type {\n",
              "        vertical-align: middle;\n",
              "    }\n",
              "\n",
              "    .dataframe tbody tr th {\n",
              "        vertical-align: top;\n",
              "    }\n",
              "\n",
              "    .dataframe thead th {\n",
              "        text-align: right;\n",
              "    }\n",
              "</style>\n",
              "<table border=\"1\" class=\"dataframe\">\n",
              "  <thead>\n",
              "    <tr style=\"text-align: right;\">\n",
              "      <th></th>\n",
              "      <th>movieId</th>\n",
              "      <th>title</th>\n",
              "      <th>genres</th>\n",
              "      <th>imdbId</th>\n",
              "      <th>tmdbId</th>\n",
              "      <th>rating</th>\n",
              "      <th>tag</th>\n",
              "      <th>new_genres</th>\n",
              "      <th>new_title</th>\n",
              "      <th>text</th>\n",
              "      <th>transformed_text</th>\n",
              "    </tr>\n",
              "  </thead>\n",
              "  <tbody>\n",
              "    <tr>\n",
              "      <th>0</th>\n",
              "      <td>1</td>\n",
              "      <td>Toy Story (1995)</td>\n",
              "      <td>Adventure|Animation|Children|Comedy|Fantasy</td>\n",
              "      <td>114709</td>\n",
              "      <td>862.0</td>\n",
              "      <td>3.920930</td>\n",
              "      <td>pixar,pixar,fun</td>\n",
              "      <td>Adventure Animation Children Comedy Fantasy</td>\n",
              "      <td>Toy Story  1995</td>\n",
              "      <td>Toy Story  1995 Adventure Animation Children C...</td>\n",
              "      <td>toy stori 1995 adventur anim children comedi f...</td>\n",
              "    </tr>\n",
              "    <tr>\n",
              "      <th>1</th>\n",
              "      <td>2</td>\n",
              "      <td>Jumanji (1995)</td>\n",
              "      <td>Adventure|Children|Fantasy</td>\n",
              "      <td>113497</td>\n",
              "      <td>8844.0</td>\n",
              "      <td>3.431818</td>\n",
              "      <td>fantasy,magic board game,Robin Williams,game</td>\n",
              "      <td>Adventure Children Fantasy</td>\n",
              "      <td>Jumanji  1995</td>\n",
              "      <td>Jumanji  1995 Adventure Children Fantasy</td>\n",
              "      <td>jumanji 1995 adventur children fantasi</td>\n",
              "    </tr>\n",
              "    <tr>\n",
              "      <th>2</th>\n",
              "      <td>3</td>\n",
              "      <td>Grumpier Old Men (1995)</td>\n",
              "      <td>Comedy|Romance</td>\n",
              "      <td>113228</td>\n",
              "      <td>15602.0</td>\n",
              "      <td>3.259615</td>\n",
              "      <td>moldy,old</td>\n",
              "      <td>Comedy Romance</td>\n",
              "      <td>Grumpier Old Men  1995</td>\n",
              "      <td>Grumpier Old Men  1995 Comedy Romance</td>\n",
              "      <td>grumpier old men 1995 comedi romanc</td>\n",
              "    </tr>\n",
              "    <tr>\n",
              "      <th>3</th>\n",
              "      <td>4</td>\n",
              "      <td>Waiting to Exhale (1995)</td>\n",
              "      <td>Comedy|Drama|Romance</td>\n",
              "      <td>114885</td>\n",
              "      <td>31357.0</td>\n",
              "      <td>2.357143</td>\n",
              "      <td>NaN</td>\n",
              "      <td>Comedy Drama Romance</td>\n",
              "      <td>Waiting to Exhale  1995</td>\n",
              "      <td>Waiting to Exhale  1995 Comedy Drama Romance</td>\n",
              "      <td>wait exhal 1995 comedi drama romanc</td>\n",
              "    </tr>\n",
              "    <tr>\n",
              "      <th>4</th>\n",
              "      <td>5</td>\n",
              "      <td>Father of the Bride Part II (1995)</td>\n",
              "      <td>Comedy</td>\n",
              "      <td>113041</td>\n",
              "      <td>11862.0</td>\n",
              "      <td>3.071429</td>\n",
              "      <td>pregnancy,remake</td>\n",
              "      <td>Comedy</td>\n",
              "      <td>Father of the Bride Part II  1995</td>\n",
              "      <td>Father of the Bride Part II  1995 Comedy</td>\n",
              "      <td>father bride part ii 1995 comedi</td>\n",
              "    </tr>\n",
              "  </tbody>\n",
              "</table>\n",
              "</div>\n",
              "    <div class=\"colab-df-buttons\">\n",
              "\n",
              "  <div class=\"colab-df-container\">\n",
              "    <button class=\"colab-df-convert\" onclick=\"convertToInteractive('df-cc687fdd-e183-4078-ba15-15c1126186a8')\"\n",
              "            title=\"Convert this dataframe to an interactive table.\"\n",
              "            style=\"display:none;\">\n",
              "\n",
              "  <svg xmlns=\"http://www.w3.org/2000/svg\" height=\"24px\" viewBox=\"0 -960 960 960\">\n",
              "    <path d=\"M120-120v-720h720v720H120Zm60-500h600v-160H180v160Zm220 220h160v-160H400v160Zm0 220h160v-160H400v160ZM180-400h160v-160H180v160Zm440 0h160v-160H620v160ZM180-180h160v-160H180v160Zm440 0h160v-160H620v160Z\"/>\n",
              "  </svg>\n",
              "    </button>\n",
              "\n",
              "  <style>\n",
              "    .colab-df-container {\n",
              "      display:flex;\n",
              "      gap: 12px;\n",
              "    }\n",
              "\n",
              "    .colab-df-convert {\n",
              "      background-color: #E8F0FE;\n",
              "      border: none;\n",
              "      border-radius: 50%;\n",
              "      cursor: pointer;\n",
              "      display: none;\n",
              "      fill: #1967D2;\n",
              "      height: 32px;\n",
              "      padding: 0 0 0 0;\n",
              "      width: 32px;\n",
              "    }\n",
              "\n",
              "    .colab-df-convert:hover {\n",
              "      background-color: #E2EBFA;\n",
              "      box-shadow: 0px 1px 2px rgba(60, 64, 67, 0.3), 0px 1px 3px 1px rgba(60, 64, 67, 0.15);\n",
              "      fill: #174EA6;\n",
              "    }\n",
              "\n",
              "    .colab-df-buttons div {\n",
              "      margin-bottom: 4px;\n",
              "    }\n",
              "\n",
              "    [theme=dark] .colab-df-convert {\n",
              "      background-color: #3B4455;\n",
              "      fill: #D2E3FC;\n",
              "    }\n",
              "\n",
              "    [theme=dark] .colab-df-convert:hover {\n",
              "      background-color: #434B5C;\n",
              "      box-shadow: 0px 1px 3px 1px rgba(0, 0, 0, 0.15);\n",
              "      filter: drop-shadow(0px 1px 2px rgba(0, 0, 0, 0.3));\n",
              "      fill: #FFFFFF;\n",
              "    }\n",
              "  </style>\n",
              "\n",
              "    <script>\n",
              "      const buttonEl =\n",
              "        document.querySelector('#df-cc687fdd-e183-4078-ba15-15c1126186a8 button.colab-df-convert');\n",
              "      buttonEl.style.display =\n",
              "        google.colab.kernel.accessAllowed ? 'block' : 'none';\n",
              "\n",
              "      async function convertToInteractive(key) {\n",
              "        const element = document.querySelector('#df-cc687fdd-e183-4078-ba15-15c1126186a8');\n",
              "        const dataTable =\n",
              "          await google.colab.kernel.invokeFunction('convertToInteractive',\n",
              "                                                    [key], {});\n",
              "        if (!dataTable) return;\n",
              "\n",
              "        const docLinkHtml = 'Like what you see? Visit the ' +\n",
              "          '<a target=\"_blank\" href=https://colab.research.google.com/notebooks/data_table.ipynb>data table notebook</a>'\n",
              "          + ' to learn more about interactive tables.';\n",
              "        element.innerHTML = '';\n",
              "        dataTable['output_type'] = 'display_data';\n",
              "        await google.colab.output.renderOutput(dataTable, element);\n",
              "        const docLink = document.createElement('div');\n",
              "        docLink.innerHTML = docLinkHtml;\n",
              "        element.appendChild(docLink);\n",
              "      }\n",
              "    </script>\n",
              "  </div>\n",
              "\n",
              "\n",
              "<div id=\"df-36f1ebbb-9c5d-4ca1-a1ec-f5f55764043f\">\n",
              "  <button class=\"colab-df-quickchart\" onclick=\"quickchart('df-36f1ebbb-9c5d-4ca1-a1ec-f5f55764043f')\"\n",
              "            title=\"Suggest charts\"\n",
              "            style=\"display:none;\">\n",
              "\n",
              "<svg xmlns=\"http://www.w3.org/2000/svg\" height=\"24px\"viewBox=\"0 0 24 24\"\n",
              "     width=\"24px\">\n",
              "    <g>\n",
              "        <path d=\"M19 3H5c-1.1 0-2 .9-2 2v14c0 1.1.9 2 2 2h14c1.1 0 2-.9 2-2V5c0-1.1-.9-2-2-2zM9 17H7v-7h2v7zm4 0h-2V7h2v10zm4 0h-2v-4h2v4z\"/>\n",
              "    </g>\n",
              "</svg>\n",
              "  </button>\n",
              "\n",
              "<style>\n",
              "  .colab-df-quickchart {\n",
              "      --bg-color: #E8F0FE;\n",
              "      --fill-color: #1967D2;\n",
              "      --hover-bg-color: #E2EBFA;\n",
              "      --hover-fill-color: #174EA6;\n",
              "      --disabled-fill-color: #AAA;\n",
              "      --disabled-bg-color: #DDD;\n",
              "  }\n",
              "\n",
              "  [theme=dark] .colab-df-quickchart {\n",
              "      --bg-color: #3B4455;\n",
              "      --fill-color: #D2E3FC;\n",
              "      --hover-bg-color: #434B5C;\n",
              "      --hover-fill-color: #FFFFFF;\n",
              "      --disabled-bg-color: #3B4455;\n",
              "      --disabled-fill-color: #666;\n",
              "  }\n",
              "\n",
              "  .colab-df-quickchart {\n",
              "    background-color: var(--bg-color);\n",
              "    border: none;\n",
              "    border-radius: 50%;\n",
              "    cursor: pointer;\n",
              "    display: none;\n",
              "    fill: var(--fill-color);\n",
              "    height: 32px;\n",
              "    padding: 0;\n",
              "    width: 32px;\n",
              "  }\n",
              "\n",
              "  .colab-df-quickchart:hover {\n",
              "    background-color: var(--hover-bg-color);\n",
              "    box-shadow: 0 1px 2px rgba(60, 64, 67, 0.3), 0 1px 3px 1px rgba(60, 64, 67, 0.15);\n",
              "    fill: var(--button-hover-fill-color);\n",
              "  }\n",
              "\n",
              "  .colab-df-quickchart-complete:disabled,\n",
              "  .colab-df-quickchart-complete:disabled:hover {\n",
              "    background-color: var(--disabled-bg-color);\n",
              "    fill: var(--disabled-fill-color);\n",
              "    box-shadow: none;\n",
              "  }\n",
              "\n",
              "  .colab-df-spinner {\n",
              "    border: 2px solid var(--fill-color);\n",
              "    border-color: transparent;\n",
              "    border-bottom-color: var(--fill-color);\n",
              "    animation:\n",
              "      spin 1s steps(1) infinite;\n",
              "  }\n",
              "\n",
              "  @keyframes spin {\n",
              "    0% {\n",
              "      border-color: transparent;\n",
              "      border-bottom-color: var(--fill-color);\n",
              "      border-left-color: var(--fill-color);\n",
              "    }\n",
              "    20% {\n",
              "      border-color: transparent;\n",
              "      border-left-color: var(--fill-color);\n",
              "      border-top-color: var(--fill-color);\n",
              "    }\n",
              "    30% {\n",
              "      border-color: transparent;\n",
              "      border-left-color: var(--fill-color);\n",
              "      border-top-color: var(--fill-color);\n",
              "      border-right-color: var(--fill-color);\n",
              "    }\n",
              "    40% {\n",
              "      border-color: transparent;\n",
              "      border-right-color: var(--fill-color);\n",
              "      border-top-color: var(--fill-color);\n",
              "    }\n",
              "    60% {\n",
              "      border-color: transparent;\n",
              "      border-right-color: var(--fill-color);\n",
              "    }\n",
              "    80% {\n",
              "      border-color: transparent;\n",
              "      border-right-color: var(--fill-color);\n",
              "      border-bottom-color: var(--fill-color);\n",
              "    }\n",
              "    90% {\n",
              "      border-color: transparent;\n",
              "      border-bottom-color: var(--fill-color);\n",
              "    }\n",
              "  }\n",
              "</style>\n",
              "\n",
              "  <script>\n",
              "    async function quickchart(key) {\n",
              "      const quickchartButtonEl =\n",
              "        document.querySelector('#' + key + ' button');\n",
              "      quickchartButtonEl.disabled = true;  // To prevent multiple clicks.\n",
              "      quickchartButtonEl.classList.add('colab-df-spinner');\n",
              "      try {\n",
              "        const charts = await google.colab.kernel.invokeFunction(\n",
              "            'suggestCharts', [key], {});\n",
              "      } catch (error) {\n",
              "        console.error('Error during call to suggestCharts:', error);\n",
              "      }\n",
              "      quickchartButtonEl.classList.remove('colab-df-spinner');\n",
              "      quickchartButtonEl.classList.add('colab-df-quickchart-complete');\n",
              "    }\n",
              "    (() => {\n",
              "      let quickchartButtonEl =\n",
              "        document.querySelector('#df-36f1ebbb-9c5d-4ca1-a1ec-f5f55764043f button');\n",
              "      quickchartButtonEl.style.display =\n",
              "        google.colab.kernel.accessAllowed ? 'block' : 'none';\n",
              "    })();\n",
              "  </script>\n",
              "</div>\n",
              "    </div>\n",
              "  </div>\n"
            ],
            "application/vnd.google.colaboratory.intrinsic+json": {
              "type": "dataframe",
              "variable_name": "df",
              "summary": "{\n  \"name\": \"df\",\n  \"rows\": 9742,\n  \"fields\": [\n    {\n      \"column\": \"movieId\",\n      \"properties\": {\n        \"dtype\": \"number\",\n        \"std\": 52160,\n        \"min\": 1,\n        \"max\": 193609,\n        \"num_unique_values\": 9742,\n        \"samples\": [\n          45635,\n          1373,\n          7325\n        ],\n        \"semantic_type\": \"\",\n        \"description\": \"\"\n      }\n    },\n    {\n      \"column\": \"title\",\n      \"properties\": {\n        \"dtype\": \"string\",\n        \"num_unique_values\": 9737,\n        \"samples\": [\n          \"Teenage Mutant Ninja Turtles (2014)\",\n          \"America's Sweethearts (2001)\",\n          \"Cast Away (2000)\"\n        ],\n        \"semantic_type\": \"\",\n        \"description\": \"\"\n      }\n    },\n    {\n      \"column\": \"genres\",\n      \"properties\": {\n        \"dtype\": \"category\",\n        \"num_unique_values\": 951,\n        \"samples\": [\n          \"Crime|Mystery|Romance|Thriller\",\n          \"Action|Adventure|Comedy|Western\",\n          \"Crime|Drama|Musical\"\n        ],\n        \"semantic_type\": \"\",\n        \"description\": \"\"\n      }\n    },\n    {\n      \"column\": \"imdbId\",\n      \"properties\": {\n        \"dtype\": \"number\",\n        \"std\": 1107227,\n        \"min\": 417,\n        \"max\": 8391976,\n        \"num_unique_values\": 9742,\n        \"samples\": [\n          404802,\n          98382,\n          335438\n        ],\n        \"semantic_type\": \"\",\n        \"description\": \"\"\n      }\n    },\n    {\n      \"column\": \"tmdbId\",\n      \"properties\": {\n        \"dtype\": \"number\",\n        \"std\": 93653.48148734067,\n        \"min\": 2.0,\n        \"max\": 525662.0,\n        \"num_unique_values\": 9733,\n        \"samples\": [\n          18168.0,\n          38357.0,\n          51620.0\n        ],\n        \"semantic_type\": \"\",\n        \"description\": \"\"\n      }\n    },\n    {\n      \"column\": \"rating\",\n      \"properties\": {\n        \"dtype\": \"number\",\n        \"std\": 0.869873634487782,\n        \"min\": 0.5,\n        \"max\": 5.0,\n        \"num_unique_values\": 1286,\n        \"samples\": [\n          3.9934210526315783,\n          3.657142857142857,\n          3.4423076923076925\n        ],\n        \"semantic_type\": \"\",\n        \"description\": \"\"\n      }\n    },\n    {\n      \"column\": \"tag\",\n      \"properties\": {\n        \"dtype\": \"category\",\n        \"num_unique_values\": 1038,\n        \"samples\": [\n          \"Music\",\n          \"alter ego,atmospheric,creepy,horror,obsession,surreal\",\n          \"Hannibal Lecter,serial killer\"\n        ],\n        \"semantic_type\": \"\",\n        \"description\": \"\"\n      }\n    },\n    {\n      \"column\": \"new_genres\",\n      \"properties\": {\n        \"dtype\": \"category\",\n        \"num_unique_values\": 951,\n        \"samples\": [\n          \"Crime Mystery Romance Thriller\",\n          \"Action Adventure Comedy Western\",\n          \"Crime Drama Musical\"\n        ],\n        \"semantic_type\": \"\",\n        \"description\": \"\"\n      }\n    },\n    {\n      \"column\": \"new_title\",\n      \"properties\": {\n        \"dtype\": \"string\",\n        \"num_unique_values\": 9737,\n        \"samples\": [\n          \"Teenage Mutant Ninja Turtles  2014 \",\n          \"America s Sweethearts  2001 \",\n          \"Cast Away  2000 \"\n        ],\n        \"semantic_type\": \"\",\n        \"description\": \"\"\n      }\n    },\n    {\n      \"column\": \"text\",\n      \"properties\": {\n        \"dtype\": \"string\",\n        \"num_unique_values\": 9742,\n        \"samples\": [\n          \"Notorious Bettie Page  The  2005 Drama\",\n          \"Star Trek V  The Final Frontier  1989 Action Sci-Fi\",\n          \"Starsky  Hutch  2004 Action Comedy Crime Thriller\"\n        ],\n        \"semantic_type\": \"\",\n        \"description\": \"\"\n      }\n    },\n    {\n      \"column\": \"transformed_text\",\n      \"properties\": {\n        \"dtype\": \"string\",\n        \"num_unique_values\": 9741,\n        \"samples\": [\n          \"caddyshack ii 1988 comedi\",\n          \"blankman 1994 comedi\",\n          \"emma 2009 comedi drama romanc\"\n        ],\n        \"semantic_type\": \"\",\n        \"description\": \"\"\n      }\n    }\n  ]\n}"
            }
          },
          "metadata": {},
          "execution_count": 341
        }
      ]
    },
    {
      "cell_type": "code",
      "source": [
        "## implementing KNN from scratch using class\n",
        "class KNN:\n",
        "    def __init__(self, k=5):\n",
        "        #k defines number of nearest neighbor\n",
        "        self.k = k\n",
        "\n",
        "    def fit(self, X_train, y_train):\n",
        "        self.X_train = X_train\n",
        "        self.y_train = y_train\n",
        "\n",
        "    def recommend(self, X_test):\n",
        "        # recommend movie using k-nn algorithm\n",
        "        predictions = []\n",
        "        for sample in X_test:\n",
        "            distances = []\n",
        "            for i in range(len(self.X_train)):\n",
        "                distance = np.sqrt(np.sum(np.square(sample - self.X_train[i])))  ## calculating the distances\n",
        "                distances.append((distance, self.y_train[i]))\n",
        "            distances.sort(key=lambda x: x[0])  ## sorting the distances\n",
        "            neighbors = distances[:self.k + 1]  ## finding the neighbours\n",
        "            #classes = [neighbor[1] for neighbor in neighbors]\n",
        "            #class_distances = [neighbor[0] for neighbor in neighbors]\n",
        "            # prediction = max(set(classes), key=classes.count)\n",
        "            predictions.append(neighbors)\n",
        "        return predictions ## returning the predictions and corresponding distances"
      ],
      "metadata": {
        "id": "BN25Jxwr6yr2"
      },
      "execution_count": 342,
      "outputs": []
    },
    {
      "cell_type": "code",
      "source": [
        "# importing countvecotrizer from sklearn.feature_extraction.text\n",
        "from sklearn.feature_extraction.text import CountVectorizer, TfidfVectorizer\n",
        "cv = CountVectorizer(max_features=100,stop_words='english')"
      ],
      "metadata": {
        "id": "AleEDG1j77HY"
      },
      "execution_count": 343,
      "outputs": []
    },
    {
      "cell_type": "code",
      "source": [
        "#vectorizing text using CountVectorizer\n",
        "vector = cv.fit_transform(df['transformed_text']).toarray()"
      ],
      "metadata": {
        "id": "Q7l_5lAQ79uS"
      },
      "execution_count": 344,
      "outputs": []
    },
    {
      "cell_type": "code",
      "source": [
        "vector.shape"
      ],
      "metadata": {
        "colab": {
          "base_uri": "https://localhost:8080/"
        },
        "id": "dPIYYdeD8Ag-",
        "outputId": "33946c4e-7ac8-4075-c600-db600cb3d626"
      },
      "execution_count": 345,
      "outputs": [
        {
          "output_type": "execute_result",
          "data": {
            "text/plain": [
              "(9742, 100)"
            ]
          },
          "metadata": {},
          "execution_count": 345
        }
      ]
    },
    {
      "cell_type": "code",
      "source": [
        "#Instantiate KNN object\n",
        "knn = KNN(k = 5)"
      ],
      "metadata": {
        "id": "3lBpNZVa8BnM"
      },
      "execution_count": 346,
      "outputs": []
    },
    {
      "cell_type": "code",
      "source": [
        "# extracting movie titles from dataset\n",
        "title = df[\"title\"].values"
      ],
      "metadata": {
        "id": "52-USa7l8XwF"
      },
      "execution_count": 347,
      "outputs": []
    },
    {
      "cell_type": "code",
      "source": [
        "# fit train data on model\n",
        "knn.fit(vector, title)"
      ],
      "metadata": {
        "id": "xERSLFle8UGR"
      },
      "execution_count": 348,
      "outputs": []
    },
    {
      "cell_type": "code",
      "source": [
        "# recommend function returns recommended movies for given title using knn\n",
        "def recommend(movieTitle):\n",
        "  movieId = df[df[\"title\"] == movieTitle][\"movieId\"].iloc[0] - 1\n",
        "  movieVector = vector[movieId, :]\n",
        "  movieVec = movieVector.reshape(1, -1)\n",
        "  recommendations= knn.recommend(movieVec)\n",
        "  print(recommendations)\n",
        "  return recommendations[0][1 :]"
      ],
      "metadata": {
        "id": "IqLMiBPpHUcF"
      },
      "execution_count": 349,
      "outputs": []
    },
    {
      "cell_type": "code",
      "source": [
        "#checking the model for \"Toy Story (1995)\"\n",
        "recommended_double_list = recommend(\"Toy Story (1995)\")"
      ],
      "metadata": {
        "id": "_YJ55F59HBY8",
        "colab": {
          "base_uri": "https://localhost:8080/"
        },
        "outputId": "24abf5e2-132f-442e-cabe-ac55cf8d062e"
      },
      "execution_count": 350,
      "outputs": [
        {
          "output_type": "stream",
          "name": "stdout",
          "text": [
            "[[(0.0, 'Toy Story (1995)'), (1.4142135623730951, 'Toy Story 2 (1999)'), (1.7320508075688772, 'Jumanji (1995)'), (1.7320508075688772, 'Balto (1995)'), (1.7320508075688772, 'Indian in the Cupboard, The (1995)'), (1.7320508075688772, 'Gordy (1995)')]]\n"
          ]
        }
      ]
    },
    {
      "cell_type": "code",
      "source": [
        "recommended_lst = [movie[1] for movie in recommended_double_list]\n",
        "recommended_lst"
      ],
      "metadata": {
        "colab": {
          "base_uri": "https://localhost:8080/"
        },
        "id": "pLhrldXF3bdd",
        "outputId": "c62ec48c-b2ca-4cd9-b4d2-bbbe268ae830"
      },
      "execution_count": 351,
      "outputs": [
        {
          "output_type": "execute_result",
          "data": {
            "text/plain": [
              "['Toy Story 2 (1999)',\n",
              " 'Jumanji (1995)',\n",
              " 'Balto (1995)',\n",
              " 'Indian in the Cupboard, The (1995)',\n",
              " 'Gordy (1995)']"
            ]
          },
          "metadata": {},
          "execution_count": 351
        }
      ]
    },
    {
      "cell_type": "code",
      "source": [
        "# printing KNN distances for nearest movies\n",
        "recommended_movies_distance = [movie[0] for movie in recommended_double_list]\n",
        "recommended_movies_distance"
      ],
      "metadata": {
        "colab": {
          "base_uri": "https://localhost:8080/"
        },
        "id": "0bwmtMGZBHRG",
        "outputId": "40a85f06-642b-4d6d-a325-5dbd52632bf7"
      },
      "execution_count": 352,
      "outputs": [
        {
          "output_type": "execute_result",
          "data": {
            "text/plain": [
              "[1.4142135623730951,\n",
              " 1.7320508075688772,\n",
              " 1.7320508075688772,\n",
              " 1.7320508075688772,\n",
              " 1.7320508075688772]"
            ]
          },
          "metadata": {},
          "execution_count": 352
        }
      ]
    },
    {
      "cell_type": "code",
      "source": [
        "## plotting the genres wordcloud for the recommended movies\n",
        "from wordcloud import WordCloud\n",
        "movies = pd.read_csv(\"movies.csv\")\n",
        "recommendations = recommended_lst\n",
        "\n",
        "# filtering movies based on recommendations\n",
        "recommended_movies = movies[movies['title'].isin(recommendations)]\n",
        "# concatenate all genres into a single string\n",
        "genres_text = ' '.join(recommended_movies['genres'])\n",
        "\n",
        "# generating word cloud\n",
        "wordcloud = WordCloud(width=800, height=400, background_color='white', min_font_size=10).generate(genres_text)\n",
        "\n",
        "# display the generated word cloud\n",
        "plt.figure(figsize=(10, 5))\n",
        "plt.imshow(wordcloud, interpolation='bilinear')\n",
        "plt.axis('off')\n",
        "plt.show()"
      ],
      "metadata": {
        "colab": {
          "base_uri": "https://localhost:8080/",
          "height": 422
        },
        "id": "J_3lo5rt3SpZ",
        "outputId": "b3d8a59d-7807-4e01-ebe2-7f40451ecf1c"
      },
      "execution_count": 353,
      "outputs": [
        {
          "output_type": "display_data",
          "data": {
            "text/plain": [
              "<Figure size 1000x500 with 1 Axes>"
            ],
            "image/png": "[encoded data removed]"
          },
          "metadata": {}
        }
      ]
    },
    {
      "cell_type": "code",
      "source": [],
      "metadata": {
        "id": "xjNv11vQ3cNm"
      },
      "execution_count": 353,
      "outputs": []
    }
  ]
}