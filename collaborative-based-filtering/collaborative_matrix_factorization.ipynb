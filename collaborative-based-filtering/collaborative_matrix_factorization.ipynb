{
  "nbformat": 4,
  "nbformat_minor": 0,
  "metadata": {
    "colab": {
      "provenance": []
    },
    "kernelspec": {
      "name": "python3",
      "display_name": "Python 3"
    },
    "language_info": {
      "name": "python"
    }
  },
  "cells": [
    {
      "cell_type": "markdown",
      "source": [
        "# COLLABORATIVE-BASED RECOMMENDATION USING MATRIX FACTORIZATION"
      ],
      "metadata": {
        "id": "nMvBt2n2MwRh"
      }
    },
    {
      "cell_type": "code",
      "source": [
        "!pip install scikit-surprise  ## dowloading the suprise library"
      ],
      "metadata": {
        "id": "Gzm3iTo2NtjY",
        "colab": {
          "base_uri": "https://localhost:8080/"
        },
        "outputId": "1add3bc9-1a62-4696-b44c-77ab85a80841"
      },
      "execution_count": 1,
      "outputs": [
        {
          "output_type": "stream",
          "name": "stdout",
          "text": [
            "Collecting scikit-surprise\n",
            "  Downloading scikit-surprise-1.1.3.tar.gz (771 kB)\n",
            "\u001b[2K     \u001b[90m━━━━━━━━━━━━━━━━━━━━━━━━━━━━━━━━━━━━━━━━\u001b[0m \u001b[32m772.0/772.0 kB\u001b[0m \u001b[31m2.2 MB/s\u001b[0m eta \u001b[36m0:00:00\u001b[0m\n",
            "\u001b[?25h  Preparing metadata (setup.py) ... \u001b[?25l\u001b[?25hdone\n",
            "Requirement already satisfied: joblib>=1.0.0 in /usr/local/lib/python3.10/dist-packages (from scikit-surprise) (1.4.0)\n",
            "Requirement already satisfied: numpy>=1.17.3 in /usr/local/lib/python3.10/dist-packages (from scikit-surprise) (1.25.2)\n",
            "Requirement already satisfied: scipy>=1.3.2 in /usr/local/lib/python3.10/dist-packages (from scikit-surprise) (1.11.4)\n",
            "Building wheels for collected packages: scikit-surprise\n",
            "  Building wheel for scikit-surprise (setup.py) ... \u001b[?25l\u001b[?25hdone\n",
            "  Created wheel for scikit-surprise: filename=scikit_surprise-1.1.3-cp310-cp310-linux_x86_64.whl size=3162990 sha256=c0a878c02141f9928d4b66f3a89477b51b205598a0c15c6b0443dc8b7f2641f2\n",
            "  Stored in directory: /root/.cache/pip/wheels/a5/ca/a8/4e28def53797fdc4363ca4af740db15a9c2f1595ebc51fb445\n",
            "Successfully built scikit-surprise\n",
            "Installing collected packages: scikit-surprise\n",
            "Successfully installed scikit-surprise-1.1.3\n"
          ]
        }
      ]
    },
    {
      "cell_type": "code",
      "source": [
        "## importing necessaries libraries\n",
        "import pandas as pd\n",
        "import numpy as np\n",
        "import pandas as pd\n",
        "from surprise import Dataset, Reader\n",
        "import matplotlib.pyplot as plt\n",
        "from surprise import SVD\n",
        "from surprise.model_selection import train_test_split"
      ],
      "metadata": {
        "id": "UyL0DTEQMroK"
      },
      "execution_count": 2,
      "outputs": []
    },
    {
      "cell_type": "code",
      "source": [
        "df = pd.read_csv(\"movies.csv\")  ## importing the dataset"
      ],
      "metadata": {
        "id": "59_QksPkqqpI"
      },
      "execution_count": 3,
      "outputs": []
    },
    {
      "cell_type": "markdown",
      "source": [
        "## Matrix factorization for movie recommendation is a technique that decomposes the user-item interaction matrix into lower-dimensional matrices representing latent features. By multiplying these matrices, missing ratings are predicted, enabling personalized recommendations. It's widely used in collaborative filtering-based recommender systems, offering efficient and scalable solutions for handling large-scale datasets and capturing user preferences and item characteristics."
      ],
      "metadata": {
        "id": "Gv8QaSYw5WvN"
      }
    },
    {
      "cell_type": "code",
      "execution_count": 4,
      "metadata": {
        "id": "VrfnwCMnprcQ"
      },
      "outputs": [],
      "source": [
        "# loading ratings data from the MovieLens dataset\n",
        "ratings_df = pd.read_csv('ratings.csv')\n",
        "\n",
        "# defining the reader the reader **\n",
        "reader = Reader(rating_scale=(1, 5))\n",
        "\n",
        "# loading  the data into the Surprise dataset **\n",
        "data = Dataset.load_from_df(ratings_df[['userId', 'movieId', 'rating']], reader)\n",
        "\n",
        "# splitting the data into training and testing sets\n",
        "trainset, testset = train_test_split(data, test_size=0.2, random_state=42)"
      ]
    },
    {
      "cell_type": "code",
      "source": [
        "# using the SVD algorithm (Matrix Factorization)\n",
        "model = SVD()\n",
        "\n",
        "# training the model on the training set\n",
        "model.fit(trainset)"
      ],
      "metadata": {
        "id": "i4Lfkm9J5uMj",
        "colab": {
          "base_uri": "https://localhost:8080/"
        },
        "outputId": "c9b7b5ed-2604-40f9-88bc-f96a11faef20"
      },
      "execution_count": 5,
      "outputs": [
        {
          "output_type": "execute_result",
          "data": {
            "text/plain": [
              "<surprise.prediction_algorithms.matrix_factorization.SVD at 0x79bbe02ddbd0>"
            ]
          },
          "metadata": {},
          "execution_count": 5
        }
      ]
    },
    {
      "cell_type": "code",
      "source": [
        "# making predictions for a specific user\n",
        "user_id = 1\n",
        "user_ratings = []\n",
        "for movie_id in ratings_df['movieId'].unique():\n",
        "    user_ratings.append((movie_id, model.predict(user_id, movie_id).est))\n",
        "\n",
        "# sorting the predictions by estimated rating\n",
        "user_ratings.sort(key=lambda x: x[1], reverse=True)"
      ],
      "metadata": {
        "id": "m9AzVAq8NTJh"
      },
      "execution_count": 6,
      "outputs": []
    },
    {
      "cell_type": "code",
      "source": [
        "# display the top N recommendations\n",
        "top_n = 5\n",
        "print(f\"Top {top_n} recommendations for user {user_id}:\")\n",
        "for i, (movie_id, rating) in enumerate(user_ratings[:top_n], start=1):\n",
        "    name = df[df[\"movieId\"] == movie_id].iloc[:, 1].tolist()[0]\n",
        "    print(f\"{i}. Movie Name: {name}, Estimated Rating: {rating}\")"
      ],
      "metadata": {
        "id": "bm54GPk_p8ll",
        "colab": {
          "base_uri": "https://localhost:8080/"
        },
        "outputId": "8a88630e-ba5a-4c17-960a-f557fcefa8f7"
      },
      "execution_count": 7,
      "outputs": [
        {
          "output_type": "stream",
          "name": "stdout",
          "text": [
            "Top 5 recommendations for user 1:\n",
            "1. Movie Name: Usual Suspects, The (1995), Estimated Rating: 5\n",
            "2. Movie Name: Forrest Gump (1994), Estimated Rating: 5\n",
            "3. Movie Name: Monty Python and the Holy Grail (1975), Estimated Rating: 5\n",
            "4. Movie Name: Raiders of the Lost Ark (Indiana Jones and the Raiders of the Lost Ark) (1981), Estimated Rating: 5\n",
            "5. Movie Name: Goodfellas (1990), Estimated Rating: 5\n"
          ]
        }
      ]
    },
    {
      "cell_type": "code",
      "source": [
        "from surprise.model_selection import cross_validate  ## importing cross_validate to evaluate the model"
      ],
      "metadata": {
        "id": "Z9AMCOpUtjVy"
      },
      "execution_count": 8,
      "outputs": []
    },
    {
      "cell_type": "code",
      "source": [
        "# perform cross-validation\n",
        "cv_results = cross_validate(model, data, measures=['RMSE', 'MAE'], cv=5, verbose=True)\n",
        "\n",
        "# get average RMSE and MAE\n",
        "avg_rmse = sum(cv_results['test_rmse']) / len(cv_results['test_rmse'])\n",
        "avg_mae = sum(cv_results['test_mae']) / len(cv_results['test_mae'])\n",
        "\n",
        "print(f'Average RMSE: {avg_rmse}')\n",
        "print(f'Average MAE: {avg_mae}')"
      ],
      "metadata": {
        "id": "BauOkI_ltgMA",
        "colab": {
          "base_uri": "https://localhost:8080/"
        },
        "outputId": "e8df2cee-d051-4a0c-f485-71e3f012c452"
      },
      "execution_count": 9,
      "outputs": [
        {
          "output_type": "stream",
          "name": "stdout",
          "text": [
            "Evaluating RMSE, MAE of algorithm SVD on 5 split(s).\n",
            "\n",
            "                  Fold 1  Fold 2  Fold 3  Fold 4  Fold 5  Mean    Std     \n",
            "RMSE (testset)    0.8687  0.8748  0.8740  0.8839  0.8668  0.8736  0.0060  \n",
            "MAE (testset)     0.6662  0.6730  0.6715  0.6783  0.6684  0.6715  0.0042  \n",
            "Fit time          1.35    1.31    1.33    1.38    1.58    1.39    0.10    \n",
            "Test time         0.29    0.11    0.22    0.13    0.18    0.18    0.06    \n",
            "Average RMSE: 0.8736416253446839\n",
            "Average MAE: 0.6714721854360642\n"
          ]
        }
      ]
    },
    {
      "cell_type": "code",
      "source": [
        "## plotting the loss curve\n",
        "# perform cross-validation\n",
        "cv_results = cross_validate(model, data, measures=['RMSE', 'MAE'], cv=5, verbose=True)\n",
        "# get average RMSE and MAE\n",
        "avg_rmse = sum(cv_results['test_rmse']) / len(cv_results['test_rmse'])\n",
        "avg_mae = sum(cv_results['test_mae']) / len(cv_results['test_mae'])\n",
        "\n",
        "print(f'Average RMSE: {avg_rmse}')\n",
        "print(f'Average MAE: {avg_mae}')\n",
        "\n",
        "# plot the evaluation results\n",
        "plt.bar(['RMSE', 'MAE'], [avg_rmse, avg_mae], color=['skyblue', 'orange'])\n",
        "plt.xlabel('Metric')\n",
        "plt.ylabel('Average Value')\n",
        "plt.title('Evaluation Metrics')\n",
        "plt.show()\n"
      ],
      "metadata": {
        "colab": {
          "base_uri": "https://localhost:8080/",
          "height": 631
        },
        "id": "PFohdTIT4oMj",
        "outputId": "d025a0b6-cf9d-4956-940f-5a88ca8da210"
      },
      "execution_count": 10,
      "outputs": [
        {
          "output_type": "stream",
          "name": "stdout",
          "text": [
            "Evaluating RMSE, MAE of algorithm SVD on 5 split(s).\n",
            "\n",
            "                  Fold 1  Fold 2  Fold 3  Fold 4  Fold 5  Mean    Std     \n",
            "RMSE (testset)    0.8711  0.8768  0.8727  0.8695  0.8789  0.8738  0.0035  \n",
            "MAE (testset)     0.6734  0.6708  0.6702  0.6686  0.6731  0.6712  0.0018  \n",
            "Fit time          1.77    1.39    1.65    1.34    1.38    1.51    0.17    \n",
            "Test time         0.22    0.14    0.24    0.13    0.22    0.19    0.04    \n",
            "Average RMSE: 0.8738002443117358\n",
            "Average MAE: 0.6712190165973191\n"
          ]
        },
        {
          "output_type": "display_data",
          "data": {
            "text/plain": [
              "<Figure size 640x480 with 1 Axes>"
            ],
            "image/png": "[encoded data removed]"
          },
          "metadata": {}
        }
      ]
    }
  ]
}