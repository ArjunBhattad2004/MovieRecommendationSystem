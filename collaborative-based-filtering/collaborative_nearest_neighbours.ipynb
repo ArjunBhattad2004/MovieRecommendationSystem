{
  "nbformat": 4,
  "nbformat_minor": 0,
  "metadata": {
    "colab": {
      "provenance": []
    },
    "kernelspec": {
      "name": "python3",
      "display_name": "Python 3"
    },
    "language_info": {
      "name": "python"
    }
  },
  "cells": [
    {
      "cell_type": "code",
      "execution_count": null,
      "metadata": {
        "colab": {
          "base_uri": "https://localhost:8080/"
        },
        "id": "ahREYDbPOYGE",
        "outputId": "5c332232-af94-4873-d1d7-56b45efd9393"
      },
      "outputs": [
        {
          "output_type": "stream",
          "name": "stdout",
          "text": [
            "      movieId                                              title  \\\n",
            "257       296                                Pulp Fiction (1994)   \n",
            "900      1198  Raiders of the Lost Ark (Indiana Jones and the...   \n",
            "902      1200                                      Aliens (1986)   \n",
            "1503     2028                         Saving Private Ryan (1998)   \n",
            "1939     2571                                 Matrix, The (1999)   \n",
            "\n",
            "                              genres  \n",
            "257      Comedy|Crime|Drama|Thriller  \n",
            "900                 Action|Adventure  \n",
            "902   Action|Adventure|Horror|Sci-Fi  \n",
            "1503                Action|Drama|War  \n",
            "1939          Action|Sci-Fi|Thriller  \n"
          ]
        }
      ],
      "source": [
        "import pandas as pd\n",
        "import numpy as np\n",
        "from sklearn.neighbors import NearestNeighbors\n",
        "from sklearn.metrics.pairwise import cosine_similarity\n",
        "\n",
        "# Load MovieLens dataset\n",
        "ratings_data = pd.read_csv('ratings.csv')  # Assuming ratings.csv contains user ratings data\n",
        "movies_data = pd.read_csv('movies.csv')    # Assuming movies.csv contains movie metadata\n",
        "\n",
        "# Filter users with more than 10 ratings\n",
        "user_ratings_count = ratings_data['userId'].value_counts()\n",
        "active_users = user_ratings_count[user_ratings_count > 10].index\n",
        "ratings_data_filtered = ratings_data[ratings_data['userId'].isin(active_users)]\n",
        "\n",
        "# Create user-item matrix with sparse representation\n",
        "user_item_matrix = ratings_data_filtered.pivot_table(index='userId', columns='movieId', values='rating')\n",
        "user_item_matrix = user_item_matrix.fillna(0)  # Fill missing values with 0\n",
        "\n",
        "# Fit Nearest Neighbors clustering\n",
        "nn_model = NearestNeighbors(n_neighbors=50, metric='cosine')\n",
        "nn_model.fit(user_item_matrix)\n",
        "\n",
        "# Recommend movies for a user based on similarity to other users\n",
        "def recommend_movies(user_id, num_recommendations=5):\n",
        "    user_ratings = user_item_matrix.loc[user_id].values.reshape(1, -1)\n",
        "    distances, indices = nn_model.kneighbors(user_ratings)\n",
        "    similar_users = indices[0][1:]  # Exclude the input user\n",
        "\n",
        "    # Compute cosine similarity between input user and similar users\n",
        "    similarities = cosine_similarity(user_ratings, user_item_matrix.iloc[similar_users])\n",
        "\n",
        "    # Get indices of top similar users based on similarity score\n",
        "    top_similar_users = np.argsort(similarities[0])[::-1][:num_recommendations]\n",
        "\n",
        "    # Get movies rated highly by the top similar users\n",
        "    recommended_movies = user_item_matrix.iloc[similar_users[top_similar_users]].mean(axis=0)\n",
        "    recommended_movies = recommended_movies.sort_values(ascending=False)[:num_recommendations]\n",
        "\n",
        "    # Get movie information from movies_data\n",
        "    recommended_movies_info = movies_data[movies_data['movieId'].isin(recommended_movies.index)]\n",
        "\n",
        "    return recommended_movies_info\n",
        "\n",
        "# Example usage:\n",
        "user_id = 1\n",
        "recommendations = recommend_movies(user_id)\n",
        "print(recommendations)\n"
      ]
    },
    {
      "cell_type": "code",
      "source": [],
      "metadata": {
        "id": "3OD66A7-O70H"
      },
      "execution_count": null,
      "outputs": []
    }
  ]
}