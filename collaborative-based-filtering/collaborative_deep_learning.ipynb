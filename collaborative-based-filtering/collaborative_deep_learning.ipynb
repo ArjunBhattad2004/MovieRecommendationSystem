{
  "nbformat": 4,
  "nbformat_minor": 0,
  "metadata": {
    "colab": {
      "provenance": [],
      "gpuType": "T4"
    },
    "kernelspec": {
      "name": "python3",
      "display_name": "Python 3"
    },
    "language_info": {
      "name": "python"
    },
    "accelerator": "GPU"
  },
  "cells": [
    {
      "cell_type": "markdown",
      "source": [
        "# COLLABORATIVE-BASED FILTERING USING DEEP LEARNING"
      ],
      "metadata": {
        "id": "JFpTOUSWQbeM"
      }
    },
    {
      "cell_type": "code",
      "source": [
        "## importing necessaries libraries\n",
        "import pandas as pd\n",
        "import numpy as np\n",
        "from sklearn.model_selection import train_test_split\n",
        "from tensorflow.keras.models import Model\n",
        "from tensorflow.keras.layers import Input, Embedding, Flatten, Dot, Concatenate, Dense\n",
        "from tensorflow.keras.optimizers import Adam\n",
        "from tensorflow.keras.metrics import MeanSquaredError"
      ],
      "metadata": {
        "id": "vKLYPHzRQP_G"
      },
      "execution_count": 18,
      "outputs": []
    },
    {
      "cell_type": "code",
      "source": [
        "import tensorflow as tf"
      ],
      "metadata": {
        "id": "6COpWK3rXDp6"
      },
      "execution_count": 19,
      "outputs": []
    },
    {
      "cell_type": "code",
      "source": [
        "pip install tensorboard"
      ],
      "metadata": {
        "id": "T-lIkCebWxya"
      },
      "execution_count": null,
      "outputs": []
    },
    {
      "cell_type": "code",
      "source": [
        "# load MovieLens dataset\n",
        "ratings_data = pd.read_csv('ratings.csv')\n",
        "movies_data = pd.read_csv(\"movies.csv\")"
      ],
      "metadata": {
        "id": "k15TJxBmTZDd"
      },
      "execution_count": 21,
      "outputs": []
    },
    {
      "cell_type": "code",
      "source": [
        "# preprocess data\n",
        "user_ids = ratings_data['userId'].unique()\n",
        "item_ids = ratings_data['movieId'].unique()\n",
        "num_users = len(user_ids)\n",
        "num_items = len(item_ids)"
      ],
      "metadata": {
        "id": "obgd0iHzTeX9"
      },
      "execution_count": 22,
      "outputs": []
    },
    {
      "cell_type": "code",
      "source": [
        "# map user and item IDs to contiguous integers starting from 0\n",
        "user_id_map = {old_id: new_id for new_id, old_id in enumerate(user_ids)}\n",
        "item_id_map = {old_id: new_id for new_id, old_id in enumerate(item_ids)}\n",
        "\n",
        "ratings_data['userId'] = ratings_data['userId'].map(user_id_map)\n",
        "ratings_data['movieId'] = ratings_data['movieId'].map(item_id_map)"
      ],
      "metadata": {
        "id": "2ZhxPmzTTjxy"
      },
      "execution_count": 23,
      "outputs": []
    },
    {
      "cell_type": "code",
      "source": [
        "train_data, test_data = train_test_split(ratings_data, test_size=0.2, random_state=42)"
      ],
      "metadata": {
        "id": "qaEQdgbdTl2o"
      },
      "execution_count": 24,
      "outputs": []
    },
    {
      "cell_type": "code",
      "source": [
        "train_data.shape"
      ],
      "metadata": {
        "colab": {
          "base_uri": "https://localhost:8080/"
        },
        "id": "O1cQBE54VQ0i",
        "outputId": "269e4e23-db4b-4ec9-f908-cfee747540a2"
      },
      "execution_count": 25,
      "outputs": [
        {
          "output_type": "execute_result",
          "data": {
            "text/plain": [
              "(80668, 4)"
            ]
          },
          "metadata": {},
          "execution_count": 25
        }
      ]
    },
    {
      "cell_type": "code",
      "source": [
        "# build model\n",
        "embedding_size = 100\n",
        "user_input = Input(shape=(1,))\n",
        "item_input = Input(shape=(1,))\n",
        "\n",
        "user_embedding = Embedding(input_dim=num_users, output_dim=embedding_size)(user_input)\n",
        "item_embedding = Embedding(input_dim=num_items, output_dim=embedding_size)(item_input)\n",
        "\n",
        "user_flatten = Flatten()(user_embedding)\n",
        "item_flatten = Flatten()(item_embedding)\n",
        "\n",
        "dot_product = Dot(axes=1)([user_flatten, item_flatten])\n",
        "\n",
        "concatenated = Concatenate(axis=-1)([user_flatten, item_flatten])\n",
        "dense_layer_1 = Dense(64, activation='relu')(concatenated)\n",
        "output = Dense(1)(dense_layer_1)"
      ],
      "metadata": {
        "id": "QqjCtOf2TnNG"
      },
      "execution_count": 26,
      "outputs": []
    },
    {
      "cell_type": "code",
      "source": [
        "model = Model(inputs=[user_input, item_input], outputs=output)"
      ],
      "metadata": {
        "id": "pOEva049Tufm"
      },
      "execution_count": 27,
      "outputs": []
    },
    {
      "cell_type": "code",
      "source": [
        "model.compile(optimizer=Adam(), loss='mean_squared_error', metrics=[MeanSquaredError()])"
      ],
      "metadata": {
        "id": "EwIZgEtvTwHk"
      },
      "execution_count": 28,
      "outputs": []
    },
    {
      "cell_type": "code",
      "source": [
        "# train model\n",
        "model.fit([train_data['userId'], train_data['movieId']], train_data['rating'],\n",
        "          batch_size=64, epochs=10, validation_split=0.1)"
      ],
      "metadata": {
        "colab": {
          "base_uri": "https://localhost:8080/"
        },
        "id": "7ZB4B2P9T-Xf",
        "outputId": "90d20380-d4b4-49aa-f96e-8225352239b8"
      },
      "execution_count": 29,
      "outputs": [
        {
          "output_type": "stream",
          "name": "stdout",
          "text": [
            "Epoch 1/10\n",
            "1135/1135 [==============================] - 13s 10ms/step - loss: 1.4898 - mean_squared_error: 1.4898 - val_loss: 0.8364 - val_mean_squared_error: 0.8364\n",
            "Epoch 2/10\n",
            "1135/1135 [==============================] - 9s 8ms/step - loss: 0.7403 - mean_squared_error: 0.7403 - val_loss: 0.7950 - val_mean_squared_error: 0.7950\n",
            "Epoch 3/10\n",
            "1135/1135 [==============================] - 5s 4ms/step - loss: 0.6830 - mean_squared_error: 0.6830 - val_loss: 0.7685 - val_mean_squared_error: 0.7685\n",
            "Epoch 4/10\n",
            "1135/1135 [==============================] - 5s 4ms/step - loss: 0.6482 - mean_squared_error: 0.6482 - val_loss: 0.7600 - val_mean_squared_error: 0.7600\n",
            "Epoch 5/10\n",
            "1135/1135 [==============================] - 5s 5ms/step - loss: 0.6221 - mean_squared_error: 0.6221 - val_loss: 0.7610 - val_mean_squared_error: 0.7610\n",
            "Epoch 6/10\n",
            "1135/1135 [==============================] - 5s 4ms/step - loss: 0.5947 - mean_squared_error: 0.5947 - val_loss: 0.7806 - val_mean_squared_error: 0.7806\n",
            "Epoch 7/10\n",
            "1135/1135 [==============================] - 6s 5ms/step - loss: 0.5665 - mean_squared_error: 0.5665 - val_loss: 0.7813 - val_mean_squared_error: 0.7813\n",
            "Epoch 8/10\n",
            "1135/1135 [==============================] - 5s 4ms/step - loss: 0.5405 - mean_squared_error: 0.5405 - val_loss: 0.8061 - val_mean_squared_error: 0.8061\n",
            "Epoch 9/10\n",
            "1135/1135 [==============================] - 5s 5ms/step - loss: 0.5119 - mean_squared_error: 0.5119 - val_loss: 0.8072 - val_mean_squared_error: 0.8072\n",
            "Epoch 10/10\n",
            "1135/1135 [==============================] - 5s 4ms/step - loss: 0.4826 - mean_squared_error: 0.4826 - val_loss: 0.8416 - val_mean_squared_error: 0.8416\n"
          ]
        },
        {
          "output_type": "execute_result",
          "data": {
            "text/plain": [
              "<keras.src.callbacks.History at 0x7e01c9a31d80>"
            ]
          },
          "metadata": {},
          "execution_count": 29
        }
      ]
    },
    {
      "cell_type": "code",
      "source": [
        "model.summary()  ## printing the summary"
      ],
      "metadata": {
        "colab": {
          "base_uri": "https://localhost:8080/"
        },
        "id": "oyKC2vpYeS9R",
        "outputId": "3f0f9100-c909-4980-c957-0e507b628e06"
      },
      "execution_count": 30,
      "outputs": [
        {
          "output_type": "stream",
          "name": "stdout",
          "text": [
            "Model: \"model_1\"\n",
            "__________________________________________________________________________________________________\n",
            " Layer (type)                Output Shape                 Param #   Connected to                  \n",
            "==================================================================================================\n",
            " input_3 (InputLayer)        [(None, 1)]                  0         []                            \n",
            "                                                                                                  \n",
            " input_4 (InputLayer)        [(None, 1)]                  0         []                            \n",
            "                                                                                                  \n",
            " embedding_4 (Embedding)     (None, 1, 100)               61000     ['input_3[0][0]']             \n",
            "                                                                                                  \n",
            " embedding_5 (Embedding)     (None, 1, 100)               972400    ['input_4[0][0]']             \n",
            "                                                                                                  \n",
            " flatten_2 (Flatten)         (None, 100)                  0         ['embedding_4[0][0]']         \n",
            "                                                                                                  \n",
            " flatten_3 (Flatten)         (None, 100)                  0         ['embedding_5[0][0]']         \n",
            "                                                                                                  \n",
            " concatenate_1 (Concatenate  (None, 200)                  0         ['flatten_2[0][0]',           \n",
            " )                                                                   'flatten_3[0][0]']           \n",
            "                                                                                                  \n",
            " dense_3 (Dense)             (None, 64)                   12864     ['concatenate_1[0][0]']       \n",
            "                                                                                                  \n",
            " dense_4 (Dense)             (None, 1)                    65        ['dense_3[0][0]']             \n",
            "                                                                                                  \n",
            "==================================================================================================\n",
            "Total params: 1046329 (3.99 MB)\n",
            "Trainable params: 1046329 (3.99 MB)\n",
            "Non-trainable params: 0 (0.00 Byte)\n",
            "__________________________________________________________________________________________________\n"
          ]
        }
      ]
    },
    {
      "cell_type": "code",
      "source": [
        "# generate the visual representation\n",
        "tf.keras.utils.plot_model(model, to_file='model.png', show_shapes=True)"
      ],
      "metadata": {
        "colab": {
          "base_uri": "https://localhost:8080/",
          "height": 644
        },
        "id": "TfH-iyexW5ni",
        "outputId": "4d179199-3d73-42bd-fe45-bb4d38c40f37"
      },
      "execution_count": 31,
      "outputs": [
        {
          "output_type": "execute_result",
          "data": {
            "image/png": "[encoded data removed]",
            "text/plain": [
              "<IPython.core.display.Image object>"
            ]
          },
          "metadata": {},
          "execution_count": 31
        }
      ]
    },
    {
      "cell_type": "code",
      "source": [
        "# predict movies for a user\n",
        "user_id = 1\n",
        "user_ratings = np.array([user_id] * num_items)"
      ],
      "metadata": {
        "id": "wSjAojF2UelL"
      },
      "execution_count": 32,
      "outputs": []
    },
    {
      "cell_type": "code",
      "source": [
        "print(user_ratings)"
      ],
      "metadata": {
        "colab": {
          "base_uri": "https://localhost:8080/"
        },
        "id": "og8cp8wKUieZ",
        "outputId": "75dd9060-0f0e-4043-f6a8-7e6d9ca067b0"
      },
      "execution_count": 33,
      "outputs": [
        {
          "output_type": "stream",
          "name": "stdout",
          "text": [
            "[1 1 1 ... 1 1 1]\n"
          ]
        }
      ]
    },
    {
      "cell_type": "code",
      "source": [
        "movie_ids = np.arange(num_items)"
      ],
      "metadata": {
        "id": "35Gftk3eUkBT"
      },
      "execution_count": 34,
      "outputs": []
    },
    {
      "cell_type": "code",
      "source": [
        "print(movie_ids)"
      ],
      "metadata": {
        "colab": {
          "base_uri": "https://localhost:8080/"
        },
        "id": "NU75SpJ8Uowd",
        "outputId": "678d8d89-cdab-49ae-c0d9-4146b3e5e023"
      },
      "execution_count": 35,
      "outputs": [
        {
          "output_type": "stream",
          "name": "stdout",
          "text": [
            "[   0    1    2 ... 9721 9722 9723]\n"
          ]
        }
      ]
    },
    {
      "cell_type": "code",
      "source": [
        "predictions = model.predict([user_ratings, movie_ids])\n",
        "predicted_ratings = predictions.flatten()"
      ],
      "metadata": {
        "colab": {
          "base_uri": "https://localhost:8080/"
        },
        "id": "-hL5hR_RU_ke",
        "outputId": "f64cfb45-085a-4c79-d742-057bf170140f"
      },
      "execution_count": 36,
      "outputs": [
        {
          "output_type": "stream",
          "name": "stdout",
          "text": [
            "304/304 [==============================] - 1s 2ms/step\n"
          ]
        }
      ]
    },
    {
      "cell_type": "code",
      "source": [
        "print(predicted_ratings.shape)"
      ],
      "metadata": {
        "colab": {
          "base_uri": "https://localhost:8080/"
        },
        "id": "dGqA8j4oVBIz",
        "outputId": "92f5ea87-daa5-492d-fd92-7e647e9c2981"
      },
      "execution_count": 37,
      "outputs": [
        {
          "output_type": "stream",
          "name": "stdout",
          "text": [
            "(9724,)\n"
          ]
        }
      ]
    },
    {
      "cell_type": "code",
      "source": [
        "# get top recommended movies\n",
        "top_movies_indices = np.argsort(predicted_ratings)[::-1][:5]\n",
        "top_movies_ids = [item_ids[i] for i in top_movies_indices]"
      ],
      "metadata": {
        "id": "PvbYxSqAVCtB"
      },
      "execution_count": 38,
      "outputs": []
    },
    {
      "cell_type": "code",
      "source": [
        "# map movie IDs back to their original IDs\n",
        "top_movies_titles = movies_data[movies_data['movieId'].isin(top_movies_ids)]['title'].tolist()\n",
        "print(\"Top recommended movies for user {}: \".format(user_id))\n",
        "for i, title in enumerate(top_movies_titles):\n",
        "    print(f\"{i+1}. {title}\")"
      ],
      "metadata": {
        "colab": {
          "base_uri": "https://localhost:8080/"
        },
        "id": "yDiZBkSMVFBm",
        "outputId": "97c7895c-7fe8-4eb2-ca4b-a8ce74e88cb5"
      },
      "execution_count": 39,
      "outputs": [
        {
          "output_type": "stream",
          "name": "stdout",
          "text": [
            "Top recommended movies for user 1: \n",
            "1. Light Years (Gandahar) (1988)\n",
            "2. Summer's Tale, A (Conte d'été) (1996)\n",
            "3. Connections (1978)\n",
            "4. Into the Abyss (2011)\n",
            "5. Nasu: Summer in Andalusia (2003)\n"
          ]
        }
      ]
    }
  ]
}